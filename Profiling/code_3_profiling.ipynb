{
 "cells": [
  {
   "cell_type": "code",
   "execution_count": 7,
   "id": "57364960",
   "metadata": {},
   "outputs": [],
   "source": [
    "from pydantic_settings import BaseSettings\n",
    "import pandas as pd\n",
    "from ydata_profiling import ProfileReport"
   ]
  },
  {
   "cell_type": "code",
   "execution_count": 8,
   "id": "8ed1589c",
   "metadata": {},
   "outputs": [
    {
     "name": "stderr",
     "output_type": "stream",
     "text": [
      "100%|██████████| 8/8 [00:00<00:00, 7589.78it/s]<00:00, 79.99it/s, Describe variable: Chance of Admit ]\n",
      "Summarize dataset: 100%|██████████| 53/53 [00:03<00:00, 16.73it/s, Completed]                                 \n",
      "Generate report structure: 100%|██████████| 1/1 [00:01<00:00,  1.24s/it]\n",
      "Render HTML: 100%|██████████| 1/1 [00:00<00:00,  1.24it/s]\n",
      "Export report to file: 100%|██████████| 1/1 [00:00<00:00, 74.99it/s]"
     ]
    },
    {
     "name": "stdout",
     "output_type": "stream",
     "text": [
      "profile report has been genearted and saved as dataset_profiling_report.html\n"
     ]
    },
    {
     "name": "stderr",
     "output_type": "stream",
     "text": [
      "\n"
     ]
    }
   ],
   "source": [
    "df = pd.read_csv(\"admission_data.csv\")\n",
    "profile = ProfileReport(df, title=\"Dataset Profiling Report\")\n",
    "ProfileReport(df)\n",
    "profile.to_file(\"admission_dataset_profiling_report.html\")\n",
    "\n",
    "print(\"profile report has been genearted and saved as dataset_profiling_report.html\")"
   ]
  },
  {
   "cell_type": "code",
   "execution_count": null,
   "id": "b6627e6e",
   "metadata": {},
   "outputs": [],
   "source": []
  }
 ],
 "metadata": {
  "kernelspec": {
   "display_name": "Python 3",
   "language": "python",
   "name": "python3"
  },
  "language_info": {
   "codemirror_mode": {
    "name": "ipython",
    "version": 3
   },
   "file_extension": ".py",
   "mimetype": "text/x-python",
   "name": "python",
   "nbconvert_exporter": "python",
   "pygments_lexer": "ipython3",
   "version": "3.11.4"
  }
 },
 "nbformat": 4,
 "nbformat_minor": 5
}
