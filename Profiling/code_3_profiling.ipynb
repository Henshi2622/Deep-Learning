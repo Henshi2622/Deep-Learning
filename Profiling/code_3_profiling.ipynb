{
 "cells": [
  {
   "cell_type": "code",
   "execution_count": 3,
   "id": "57364960",
   "metadata": {},
   "outputs": [
    {
     "ename": "ModuleNotFoundError",
     "evalue": "No module named 'pydantic_settings'",
     "output_type": "error",
     "traceback": [
      "\u001b[31m---------------------------------------------------------------------------\u001b[39m",
      "\u001b[31mModuleNotFoundError\u001b[39m                       Traceback (most recent call last)",
      "\u001b[36mCell\u001b[39m\u001b[36m \u001b[39m\u001b[32mIn[3]\u001b[39m\u001b[32m, line 1\u001b[39m\n\u001b[32m----> \u001b[39m\u001b[32m1\u001b[39m \u001b[38;5;28;01mfrom\u001b[39;00m\u001b[38;5;250m \u001b[39m\u001b[34;01mpydantic_settings\u001b[39;00m\u001b[38;5;250m \u001b[39m\u001b[38;5;28;01mimport\u001b[39;00m BaseSettings\n\u001b[32m      2\u001b[39m \u001b[38;5;28;01mimport\u001b[39;00m\u001b[38;5;250m \u001b[39m\u001b[34;01mpandas\u001b[39;00m\u001b[38;5;250m \u001b[39m\u001b[38;5;28;01mas\u001b[39;00m\u001b[38;5;250m \u001b[39m\u001b[34;01mpd\u001b[39;00m\n\u001b[32m      3\u001b[39m \u001b[38;5;28;01mfrom\u001b[39;00m\u001b[38;5;250m \u001b[39m\u001b[34;01mydata_profiling\u001b[39;00m\u001b[38;5;250m \u001b[39m\u001b[38;5;28;01mimport\u001b[39;00m ProfileReport\n",
      "\u001b[31mModuleNotFoundError\u001b[39m: No module named 'pydantic_settings'"
     ]
    }
   ],
   "source": [
    "from pydantic_settings import BaseSettings\n",
    "import pandas as pd\n",
    "from ydata_profiling import ProfileReport"
   ]
  },
  {
   "cell_type": "code",
   "execution_count": null,
   "id": "8ed1589c",
   "metadata": {},
   "outputs": [
    {
     "name": "stderr",
     "output_type": "stream",
     "text": [
      "100%|██████████| 14/14 [00:00<00:00, 89.79it/s]0<00:00, 18.16it/s, Describe variable: Exited]\n",
      "Summarize dataset: 100%|██████████| 72/72 [00:05<00:00, 13.40it/s, Completed]                               \n",
      "Generate report structure: 100%|██████████| 1/1 [00:02<00:00,  2.87s/it]\n",
      "Render HTML: 100%|██████████| 1/1 [00:01<00:00,  1.63s/it]\n",
      "Export report to file: 100%|██████████| 1/1 [00:00<00:00, 88.58it/s]"
     ]
    },
    {
     "name": "stdout",
     "output_type": "stream",
     "text": [
      "profile report has been genearted and saved as dataset_profiling_report.html\n"
     ]
    },
    {
     "name": "stderr",
     "output_type": "stream",
     "text": [
      "\n"
     ]
    }
   ],
   "source": [
    "df = pd.read_csv(\"admissions.csv\")\n",
    "profile = ProfileReport(df, title=\"Dataset Profiling Report\")\n",
    "ProfileReport(df)\n",
    "profile.to_file(\"admission_dataset_profiling_report.html\")\n",
    "\n",
    "print(\"profile report has been genearted and saved as dataset_profiling_report.html\")"
   ]
  },
  {
   "cell_type": "code",
   "execution_count": 1,
   "id": "5fa806a4",
   "metadata": {},
   "outputs": [
    {
     "name": "stdout",
     "output_type": "stream",
     "text": [
      "Collecting pydantic_settings\n",
      "  Using cached pydantic_settings-2.9.1-py3-none-any.whl.metadata (3.8 kB)\n",
      "Collecting pydantic>=2.7.0 (from pydantic_settings)\n",
      "  Downloading pydantic-2.11.7-py3-none-any.whl.metadata (67 kB)\n",
      "Collecting python-dotenv>=0.21.0 (from pydantic_settings)\n",
      "  Downloading python_dotenv-1.1.0-py3-none-any.whl.metadata (24 kB)\n",
      "Collecting typing-inspection>=0.4.0 (from pydantic_settings)\n",
      "  Downloading typing_inspection-0.4.1-py3-none-any.whl.metadata (2.6 kB)\n",
      "Collecting annotated-types>=0.6.0 (from pydantic>=2.7.0->pydantic_settings)\n",
      "  Downloading annotated_types-0.7.0-py3-none-any.whl.metadata (15 kB)\n",
      "Collecting pydantic-core==2.33.2 (from pydantic>=2.7.0->pydantic_settings)\n",
      "  Downloading pydantic_core-2.33.2-cp311-cp311-win_amd64.whl.metadata (6.9 kB)\n",
      "Requirement already satisfied: typing-extensions>=4.12.2 in c:\\users\\asus\\desktop\\genai\\deep_learning\\.venv\\lib\\site-packages (from pydantic>=2.7.0->pydantic_settings) (4.14.0)\n",
      "Using cached pydantic_settings-2.9.1-py3-none-any.whl (44 kB)\n",
      "Downloading pydantic-2.11.7-py3-none-any.whl (444 kB)\n",
      "Downloading pydantic_core-2.33.2-cp311-cp311-win_amd64.whl (2.0 MB)\n",
      "   ---------------------------------------- 0.0/2.0 MB ? eta -:--:--\n",
      "   ---------------------------------------- 0.0/2.0 MB ? eta -:--:--\n",
      "   ----- ---------------------------------- 0.3/2.0 MB ? eta -:--:--\n",
      "   ----- ---------------------------------- 0.3/2.0 MB ? eta -:--:--\n",
      "   ---------- ----------------------------- 0.5/2.0 MB 932.9 kB/s eta 0:00:02\n",
      "   ---------------- ----------------------- 0.8/2.0 MB 958.5 kB/s eta 0:00:02\n",
      "   --------------------- ------------------ 1.0/2.0 MB 931.8 kB/s eta 0:00:01\n",
      "   --------------------- ------------------ 1.0/2.0 MB 931.8 kB/s eta 0:00:01\n",
      "   -------------------------- ------------- 1.3/2.0 MB 932.1 kB/s eta 0:00:01\n",
      "   -------------------------------- ------- 1.6/2.0 MB 932.2 kB/s eta 0:00:01\n",
      "   ------------------------------------- -- 1.8/2.0 MB 940.7 kB/s eta 0:00:01\n",
      "   ---------------------------------------- 2.0/2.0 MB 933.1 kB/s eta 0:00:00\n",
      "Downloading annotated_types-0.7.0-py3-none-any.whl (13 kB)\n",
      "Downloading python_dotenv-1.1.0-py3-none-any.whl (20 kB)\n",
      "Downloading typing_inspection-0.4.1-py3-none-any.whl (14 kB)\n",
      "Installing collected packages: typing-inspection, python-dotenv, pydantic-core, annotated-types, pydantic, pydantic_settings\n",
      "\n",
      "   ------ --------------------------------- 1/6 [python-dotenv]\n",
      "   ------ --------------------------------- 1/6 [python-dotenv]\n",
      "   ------ --------------------------------- 1/6 [python-dotenv]\n",
      "   ------------- -------------------------- 2/6 [pydantic-core]\n",
      "   -------------------------- ------------- 4/6 [pydantic]\n",
      "   -------------------------- ------------- 4/6 [pydantic]\n",
      "   -------------------------- ------------- 4/6 [pydantic]\n",
      "   -------------------------- ------------- 4/6 [pydantic]\n",
      "   -------------------------- ------------- 4/6 [pydantic]\n",
      "   -------------------------- ------------- 4/6 [pydantic]\n",
      "   -------------------------- ------------- 4/6 [pydantic]\n",
      "   -------------------------- ------------- 4/6 [pydantic]\n",
      "   -------------------------- ------------- 4/6 [pydantic]\n",
      "   -------------------------- ------------- 4/6 [pydantic]\n",
      "   -------------------------- ------------- 4/6 [pydantic]\n",
      "   -------------------------- ------------- 4/6 [pydantic]\n",
      "   -------------------------- ------------- 4/6 [pydantic]\n",
      "   --------------------------------- ------ 5/6 [pydantic_settings]\n",
      "   --------------------------------- ------ 5/6 [pydantic_settings]\n",
      "   ---------------------------------------- 6/6 [pydantic_settings]\n",
      "\n",
      "Successfully installed annotated-types-0.7.0 pydantic-2.11.7 pydantic-core-2.33.2 pydantic_settings-2.9.1 python-dotenv-1.1.0 typing-inspection-0.4.1\n"
     ]
    }
   ],
   "source": [
    "!pip install pydantic_settings"
   ]
  },
  {
   "cell_type": "code",
   "execution_count": null,
   "id": "b6627e6e",
   "metadata": {},
   "outputs": [],
   "source": []
  }
 ],
 "metadata": {
  "kernelspec": {
   "display_name": ".venv",
   "language": "python",
   "name": "python3"
  },
  "language_info": {
   "codemirror_mode": {
    "name": "ipython",
    "version": 3
   },
   "file_extension": ".py",
   "mimetype": "text/x-python",
   "name": "python",
   "nbconvert_exporter": "python",
   "pygments_lexer": "ipython3",
   "version": "3.11.4"
  }
 },
 "nbformat": 4,
 "nbformat_minor": 5
}
